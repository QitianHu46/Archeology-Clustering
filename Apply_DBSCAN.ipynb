{
 "cells": [
  {
   "cell_type": "markdown",
   "metadata": {},
   "source": [
    "# Use Geometric Center for Clustering"
   ]
  },
  {
   "cell_type": "markdown",
   "metadata": {},
   "source": [
    "## Import processed data"
   ]
  },
  {
   "cell_type": "code",
   "execution_count": 1,
   "metadata": {},
   "outputs": [],
   "source": [
    "import numpy as np\n",
    "\n",
    "rsd_ctr = np.genfromtxt('rsd_array_GeometricCentroids.csv', delimiter=',')\n",
    "assert len(rsd_ctr) == 2454"
   ]
  },
  {
   "cell_type": "markdown",
   "metadata": {},
   "source": [
    "## Run DBSCAN"
   ]
  },
  {
   "cell_type": "code",
   "execution_count": 2,
   "metadata": {},
   "outputs": [],
   "source": [
    "from sklearn.cluster import DBSCAN\n",
    "from sklearn import metrics\n",
    "\n",
    "from sklearn.preprocessing import StandardScaler\n",
    "X = StandardScaler().fit_transform(rsd_ctr)\n",
    "\n",
    "# Compute CBSCAN\n",
    "eps_value = 0.1\n",
    "db = DBSCAN(eps=eps_value, min_samples=10).fit(X)\n",
    "# eps: max distance between two neighnoring samples\n",
    "# min_samples: The number of samples (or total weight) in a neighborhood for a point to be considered as a core point. This includes the point itself.\n"
   ]
  },
  {
   "cell_type": "code",
   "execution_count": 3,
   "metadata": {
    "scrolled": true
   },
   "outputs": [],
   "source": [
    "# Mark core samples\n",
    "\n",
    "core_samples_mask = np.zeros_like(db.labels_, dtype=bool)\n",
    "core_samples_mask[db.core_sample_indices_] = True \n",
    "# use a new list to mark every core point as True\n",
    "# core_sample_indices_ : array, shape = [n_core_samples]; indices of core samples\n",
    "\n",
    "# import collections\n",
    "# collections.Counter(core_samples_mask)\n",
    "# collections.Counter(db.labels_)"
   ]
  },
  {
   "cell_type": "code",
   "execution_count": 4,
   "metadata": {},
   "outputs": [
    {
     "name": "stdout",
     "output_type": "stream",
     "text": [
      "Estimated number of clusters: 25\n",
      "Estimated number of noise points: 819\n",
      "Silhouette Coefficient: -0.182\n"
     ]
    }
   ],
   "source": [
    "labels = db.labels_\n",
    "\n",
    "# Number of clusters in labels, ignoring noise if present.\n",
    "n_clusters_ = len(set(labels)) - (1 if -1 in labels else 0)\n",
    "n_noise_ = list(labels).count(-1)\n",
    "print('Estimated number of clusters: %d' % n_clusters_)\n",
    "print('Estimated number of noise points: %d' % n_noise_)\n",
    "print(\"Silhouette Coefficient: %0.3f\"\n",
    "      % metrics.silhouette_score(rsd_ctr, labels))"
   ]
  },
  {
   "cell_type": "markdown",
   "metadata": {},
   "source": [
    "## Draw the Graph"
   ]
  },
  {
   "cell_type": "code",
   "execution_count": 5,
   "metadata": {},
   "outputs": [
    {
     "data": {
      "text/plain": [
       "Text(0.5, 1.0, 'DBSCAN - num of clusters: 25 \\n points with cover are core point, while others are phriphery points')"
      ]
     },
     "execution_count": 5,
     "metadata": {},
     "output_type": "execute_result"
    }
   ],
   "source": [
    "import matplotlib.pyplot as plt\n",
    "plt.figure(figsize = (15,15), facecolor='.6')\n",
    "# Black removed and is used for noise instead.\n",
    "unique_labels = set(labels)\n",
    "colors = [plt.cm.Spectral(each) for each in np.linspace(0, 1, len(unique_labels))]\n",
    "for k, col in zip(unique_labels, colors):\n",
    "    if k == -1:\n",
    "        # Black used for noise.\n",
    "        col = [0, 0, 0, 1]\n",
    "\n",
    "    class_member_mask = (labels == k)\n",
    "\n",
    "    xy = X[class_member_mask & core_samples_mask]\n",
    "    plt.plot(xy[:, 0], xy[:, 1], 'o', markerfacecolor=tuple(col),\n",
    "             markeredgecolor=None, markersize=5)\n",
    "\n",
    "    xy = X[class_member_mask & ~core_samples_mask]\n",
    "    plt.plot(xy[:, 0], xy[:, 1], 'x', markerfacecolor=tuple(col),\n",
    "             markeredgecolor=None, markersize=1)\n",
    "\n",
    "\n",
    "plt.title('DBSCAN - num of clusters: %d \\n points with cover are core point, while others are phriphery points' % n_clusters_)\n",
    "# plt.show()"
   ]
  },
  {
   "cell_type": "markdown",
   "metadata": {},
   "source": [
    "# Analyzing Clusters - Area"
   ]
  },
  {
   "cell_type": "markdown",
   "metadata": {},
   "source": [
    "For each cluster, produce its total area, built area, and number of structures, and other relevant info"
   ]
  },
  {
   "cell_type": "code",
   "execution_count": 6,
   "metadata": {},
   "outputs": [],
   "source": [
    "import numpy as np\n",
    "import fiona\n",
    "from shapely.geometry import Point, Polygon, MultiPoint, MultiPolygon, shape, LineString\n",
    "import pandas as pd\n",
    "\n",
    "labels = db.labels_\n",
    "num_clusters = n_clusters_"
   ]
  },
  {
   "cell_type": "code",
   "execution_count": 40,
   "metadata": {},
   "outputs": [
    {
     "name": "stdout",
     "output_type": "stream",
     "text": [
      "2447 has error\n",
      "2448 is None\n"
     ]
    }
   ],
   "source": [
    "rawMap = fiona.open('Data/Residences.shp')\n",
    "\n",
    "# assort all the geoPy objects in the geoMap list\n",
    "geoMap = []\n",
    "for i in range(len(rawMap)):\n",
    "    if rawMap[i]['geometry'] == None:\n",
    "        print(i, 'is None')\n",
    "    else:\n",
    "        try:\n",
    "            geoMap.append(Polygon(shape(rawMap[i]['geometry'])))\n",
    "        except:\n",
    "            print(i, 'has error')\n",
    "assert len(geoMap) == len(rsd_ctr)"
   ]
  },
  {
   "cell_type": "code",
   "execution_count": 9,
   "metadata": {},
   "outputs": [],
   "source": [
    "# dfArea is a DataFrame that contain the area of each building center point\n",
    "dfArea = pd.DataFrame( columns = ['area', 'cluster'])\n",
    "dfArea.area = [m.area for m in geoMap]\n",
    "dfArea.cluster = labels"
   ]
  },
  {
   "cell_type": "code",
   "execution_count": 10,
   "metadata": {},
   "outputs": [],
   "source": [
    "# Setup the result DataFrame\n",
    "Results = pd.DataFrame(columns = \n",
    "['number_of_buildings', 'total_area', 'built_area', 'building_density',\n",
    " 'max_area', 'min_area', 'mean_area', 'Gini_coefficient' ])"
   ]
  },
  {
   "cell_type": "markdown",
   "metadata": {},
   "source": [
    "#### Calculate number_of_buildings, built_area, max_area, min_area, mean_area"
   ]
  },
  {
   "cell_type": "code",
   "execution_count": 11,
   "metadata": {},
   "outputs": [],
   "source": [
    "# add data for cluster_number, number_of_buildings, total_area\n",
    "Results.number_of_buildings = [len(dfArea[dfArea.cluster == i]) for i in range(num_clusters) ]\n",
    "Results.built_area = [ sum(dfArea[dfArea.cluster == i].area) for i in range(num_clusters) ]\n",
    "Results.max_area = [ max(dfArea[dfArea.cluster == i].area) for i in range(num_clusters) ]\n",
    "Results.min_area = [ min(dfArea[dfArea.cluster == i].area) for i in range(num_clusters) ]"
   ]
  },
  {
   "cell_type": "markdown",
   "metadata": {},
   "source": [
    "### Gini Coefficient"
   ]
  },
  {
   "cell_type": "code",
   "execution_count": 12,
   "metadata": {},
   "outputs": [],
   "source": [
    "# Calculate Gini Coefficient for each cluster\n",
    "def gini(x):\n",
    "    # Mean absolute difference\n",
    "    mad = np.abs(np.subtract.outer(x, x)).mean()\n",
    "    # Relative mean absolute difference\n",
    "    rmad = mad/np.mean(x)\n",
    "    # Gini coefficient\n",
    "    g = 0.5 * rmad\n",
    "    return g\n",
    "\n",
    "Results.Gini_coefficient = \n",
    "    [gini(np.asarray(dfArea[dfArea.cluster == i].area)) for i in range(num_clusters)]"
   ]
  },
  {
   "cell_type": "markdown",
   "metadata": {},
   "source": [
    "#### Calculate total area of a cluster"
   ]
  },
  {
   "cell_type": "code",
   "execution_count": 13,
   "metadata": {},
   "outputs": [],
   "source": [
    "# Calculate total area of each cluster region\n",
    "# use the area convexHull of all center in the cluster\n",
    "# http://scipy.github.io/devdocs/generated/scipy.spatial.ConvexHull.html\n",
    "grouped_ctr = [[] for i in range(num_clusters)]\n",
    "for i in range(len(rsd_ctr)):\n",
    "    grouped_ctr[labels[i]].append(rsd_ctr[i])"
   ]
  },
  {
   "cell_type": "code",
   "execution_count": 14,
   "metadata": {},
   "outputs": [],
   "source": [
    "# each item in convexhulls is a ConvexHull object consisted of the cluster\n",
    "from scipy.spatial import ConvexHull\n",
    "\n",
    "convexhulls = []\n",
    "for i in range(num_clusters):\n",
    "    convexhulls.append(ConvexHull(grouped_ctr[i]) )\n",
    "\n",
    "Results.total_area = [ i.area for i in  convexhulls]"
   ]
  },
  {
   "cell_type": "markdown",
   "metadata": {},
   "source": [
    "#### Calculate built_area and building_density"
   ]
  },
  {
   "cell_type": "code",
   "execution_count": 15,
   "metadata": {},
   "outputs": [],
   "source": [
    "Results.built_area = [\n",
    "    sum(dfArea[dfArea.cluster == i].area) for i in range(num_clusters)\n",
    "]"
   ]
  },
  {
   "cell_type": "code",
   "execution_count": 16,
   "metadata": {},
   "outputs": [],
   "source": [
    "Results.building_density = [\n",
    "    Results.built_area[i]/Results.total_area[i] for i in range(num_clusters)\n",
    "]"
   ]
  },
  {
   "cell_type": "markdown",
   "metadata": {},
   "source": [
    "#### Calculate a total row"
   ]
  },
  {
   "cell_type": "markdown",
   "metadata": {},
   "source": [
    "This table is the result of analyzing all these clusters. The index columns on the left indicates info for each cluster. Row no. 13 is done on the entire map <br/>\n",
    "Illustration:  <br/>\n",
    "**built_area**: total area of building in the cluster <br/>\n",
    "**total_area**: total area of the cluster, measured by the area of the smallest convex hull that contain all center points of buildings in the cluster <br/>\n",
    "**building_density**: built_area/total_area. Possibly due to different algorithms of the packages I used, the unit is wrong. However, I manually checked that the density here is a correct characterization the building density on the graph. So, qualitative comparisons can be made. <br/>\n",
    "**max/min/mean_area**: max/min/mean area of all the buildings in each cluster <br/>\n",
    "**Gini_coefficient**: the gini coefficient for all the areas of buildings in the cluster  <br/>\n",
    "**Gini_Diff**: Gini of the cluster - Gini of the whole region"
   ]
  },
  {
   "cell_type": "code",
   "execution_count": 17,
   "metadata": {},
   "outputs": [
    {
     "data": {
      "text/html": [
       "<div>\n",
       "<style scoped>\n",
       "    .dataframe tbody tr th:only-of-type {\n",
       "        vertical-align: middle;\n",
       "    }\n",
       "\n",
       "    .dataframe tbody tr th {\n",
       "        vertical-align: top;\n",
       "    }\n",
       "\n",
       "    .dataframe thead th {\n",
       "        text-align: right;\n",
       "    }\n",
       "</style>\n",
       "<table border=\"1\" class=\"dataframe\">\n",
       "  <thead>\n",
       "    <tr style=\"text-align: right;\">\n",
       "      <th></th>\n",
       "      <th>number_of_buildings</th>\n",
       "      <th>total_area</th>\n",
       "      <th>built_area</th>\n",
       "      <th>building_density</th>\n",
       "      <th>max_area</th>\n",
       "      <th>min_area</th>\n",
       "      <th>mean_area</th>\n",
       "      <th>Gini_coefficient</th>\n",
       "    </tr>\n",
       "  </thead>\n",
       "  <tbody>\n",
       "    <tr>\n",
       "      <th>0</th>\n",
       "      <td>44.0</td>\n",
       "      <td>1571.467687</td>\n",
       "      <td>3.048285e+04</td>\n",
       "      <td>19.397692</td>\n",
       "      <td>3102.324753</td>\n",
       "      <td>153.730146</td>\n",
       "      <td>NaN</td>\n",
       "      <td>0.378189</td>\n",
       "    </tr>\n",
       "    <tr>\n",
       "      <th>1</th>\n",
       "      <td>24.0</td>\n",
       "      <td>1164.409144</td>\n",
       "      <td>3.716276e+04</td>\n",
       "      <td>31.915550</td>\n",
       "      <td>3165.013891</td>\n",
       "      <td>183.762128</td>\n",
       "      <td>NaN</td>\n",
       "      <td>0.259047</td>\n",
       "    </tr>\n",
       "    <tr>\n",
       "      <th>2</th>\n",
       "      <td>18.0</td>\n",
       "      <td>988.294800</td>\n",
       "      <td>5.077519e+04</td>\n",
       "      <td>51.376564</td>\n",
       "      <td>7560.498991</td>\n",
       "      <td>577.538118</td>\n",
       "      <td>NaN</td>\n",
       "      <td>0.401669</td>\n",
       "    </tr>\n",
       "    <tr>\n",
       "      <th>3</th>\n",
       "      <td>11.0</td>\n",
       "      <td>666.222198</td>\n",
       "      <td>2.461446e+04</td>\n",
       "      <td>36.946329</td>\n",
       "      <td>7555.458659</td>\n",
       "      <td>700.606240</td>\n",
       "      <td>NaN</td>\n",
       "      <td>0.371939</td>\n",
       "    </tr>\n",
       "    <tr>\n",
       "      <th>4</th>\n",
       "      <td>235.0</td>\n",
       "      <td>3401.002568</td>\n",
       "      <td>3.525577e+05</td>\n",
       "      <td>103.662875</td>\n",
       "      <td>4513.110365</td>\n",
       "      <td>168.011089</td>\n",
       "      <td>NaN</td>\n",
       "      <td>0.355455</td>\n",
       "    </tr>\n",
       "    <tr>\n",
       "      <th>5</th>\n",
       "      <td>35.0</td>\n",
       "      <td>1368.972766</td>\n",
       "      <td>7.394296e+04</td>\n",
       "      <td>54.013464</td>\n",
       "      <td>5574.191850</td>\n",
       "      <td>304.520098</td>\n",
       "      <td>NaN</td>\n",
       "      <td>0.342794</td>\n",
       "    </tr>\n",
       "    <tr>\n",
       "      <th>6</th>\n",
       "      <td>65.0</td>\n",
       "      <td>2180.284051</td>\n",
       "      <td>1.746795e+05</td>\n",
       "      <td>80.117758</td>\n",
       "      <td>7275.090155</td>\n",
       "      <td>94.399830</td>\n",
       "      <td>NaN</td>\n",
       "      <td>0.308497</td>\n",
       "    </tr>\n",
       "    <tr>\n",
       "      <th>7</th>\n",
       "      <td>67.0</td>\n",
       "      <td>2263.071649</td>\n",
       "      <td>2.268033e+05</td>\n",
       "      <td>100.219220</td>\n",
       "      <td>10834.965106</td>\n",
       "      <td>364.024026</td>\n",
       "      <td>NaN</td>\n",
       "      <td>0.271387</td>\n",
       "    </tr>\n",
       "    <tr>\n",
       "      <th>8</th>\n",
       "      <td>33.0</td>\n",
       "      <td>1415.521647</td>\n",
       "      <td>4.353365e+04</td>\n",
       "      <td>30.754493</td>\n",
       "      <td>3496.870793</td>\n",
       "      <td>150.072405</td>\n",
       "      <td>NaN</td>\n",
       "      <td>0.413160</td>\n",
       "    </tr>\n",
       "    <tr>\n",
       "      <th>9</th>\n",
       "      <td>738.0</td>\n",
       "      <td>7976.905361</td>\n",
       "      <td>1.346984e+06</td>\n",
       "      <td>168.860509</td>\n",
       "      <td>34636.313970</td>\n",
       "      <td>55.488462</td>\n",
       "      <td>NaN</td>\n",
       "      <td>0.437551</td>\n",
       "    </tr>\n",
       "    <tr>\n",
       "      <th>10</th>\n",
       "      <td>5.0</td>\n",
       "      <td>542.549880</td>\n",
       "      <td>1.493522e+04</td>\n",
       "      <td>27.527834</td>\n",
       "      <td>4526.673759</td>\n",
       "      <td>1268.396214</td>\n",
       "      <td>NaN</td>\n",
       "      <td>0.197676</td>\n",
       "    </tr>\n",
       "    <tr>\n",
       "      <th>11</th>\n",
       "      <td>21.0</td>\n",
       "      <td>1103.806950</td>\n",
       "      <td>2.865639e+04</td>\n",
       "      <td>25.961416</td>\n",
       "      <td>3599.987599</td>\n",
       "      <td>210.013861</td>\n",
       "      <td>NaN</td>\n",
       "      <td>0.385307</td>\n",
       "    </tr>\n",
       "    <tr>\n",
       "      <th>12</th>\n",
       "      <td>14.0</td>\n",
       "      <td>683.008223</td>\n",
       "      <td>1.971899e+04</td>\n",
       "      <td>28.870793</td>\n",
       "      <td>4417.571559</td>\n",
       "      <td>219.534489</td>\n",
       "      <td>NaN</td>\n",
       "      <td>0.439968</td>\n",
       "    </tr>\n",
       "    <tr>\n",
       "      <th>13</th>\n",
       "      <td>10.0</td>\n",
       "      <td>656.508323</td>\n",
       "      <td>1.269352e+04</td>\n",
       "      <td>19.334892</td>\n",
       "      <td>3247.234318</td>\n",
       "      <td>233.535413</td>\n",
       "      <td>NaN</td>\n",
       "      <td>0.430048</td>\n",
       "    </tr>\n",
       "    <tr>\n",
       "      <th>14</th>\n",
       "      <td>21.0</td>\n",
       "      <td>1087.258775</td>\n",
       "      <td>3.663762e+04</td>\n",
       "      <td>33.697238</td>\n",
       "      <td>4525.798702</td>\n",
       "      <td>322.021253</td>\n",
       "      <td>NaN</td>\n",
       "      <td>0.366342</td>\n",
       "    </tr>\n",
       "    <tr>\n",
       "      <th>15</th>\n",
       "      <td>103.0</td>\n",
       "      <td>2785.361081</td>\n",
       "      <td>2.373872e+05</td>\n",
       "      <td>85.226730</td>\n",
       "      <td>7862.393917</td>\n",
       "      <td>203.853454</td>\n",
       "      <td>NaN</td>\n",
       "      <td>0.311052</td>\n",
       "    </tr>\n",
       "    <tr>\n",
       "      <th>16</th>\n",
       "      <td>71.0</td>\n",
       "      <td>2220.290728</td>\n",
       "      <td>1.068801e+05</td>\n",
       "      <td>48.137904</td>\n",
       "      <td>39001.939774</td>\n",
       "      <td>70.984685</td>\n",
       "      <td>NaN</td>\n",
       "      <td>0.663205</td>\n",
       "    </tr>\n",
       "    <tr>\n",
       "      <th>17</th>\n",
       "      <td>14.0</td>\n",
       "      <td>812.231013</td>\n",
       "      <td>3.310518e+04</td>\n",
       "      <td>40.758336</td>\n",
       "      <td>5679.124821</td>\n",
       "      <td>497.032804</td>\n",
       "      <td>NaN</td>\n",
       "      <td>0.375540</td>\n",
       "    </tr>\n",
       "    <tr>\n",
       "      <th>18</th>\n",
       "      <td>10.0</td>\n",
       "      <td>619.636490</td>\n",
       "      <td>2.437036e+04</td>\n",
       "      <td>39.330089</td>\n",
       "      <td>5360.603800</td>\n",
       "      <td>530.284999</td>\n",
       "      <td>NaN</td>\n",
       "      <td>0.336165</td>\n",
       "    </tr>\n",
       "    <tr>\n",
       "      <th>19</th>\n",
       "      <td>6.0</td>\n",
       "      <td>389.897077</td>\n",
       "      <td>1.268659e+04</td>\n",
       "      <td>32.538298</td>\n",
       "      <td>4725.311870</td>\n",
       "      <td>581.038348</td>\n",
       "      <td>NaN</td>\n",
       "      <td>0.330137</td>\n",
       "    </tr>\n",
       "    <tr>\n",
       "      <th>20</th>\n",
       "      <td>11.0</td>\n",
       "      <td>630.478609</td>\n",
       "      <td>1.940528e+04</td>\n",
       "      <td>30.778650</td>\n",
       "      <td>4650.056903</td>\n",
       "      <td>367.524257</td>\n",
       "      <td>NaN</td>\n",
       "      <td>0.427604</td>\n",
       "    </tr>\n",
       "    <tr>\n",
       "      <th>21</th>\n",
       "      <td>13.0</td>\n",
       "      <td>740.302479</td>\n",
       "      <td>2.539155e+04</td>\n",
       "      <td>34.298887</td>\n",
       "      <td>4788.001008</td>\n",
       "      <td>529.234930</td>\n",
       "      <td>NaN</td>\n",
       "      <td>0.349084</td>\n",
       "    </tr>\n",
       "    <tr>\n",
       "      <th>22</th>\n",
       "      <td>26.0</td>\n",
       "      <td>1235.120827</td>\n",
       "      <td>3.938100e+04</td>\n",
       "      <td>31.884331</td>\n",
       "      <td>4624.505217</td>\n",
       "      <td>212.324013</td>\n",
       "      <td>NaN</td>\n",
       "      <td>0.354974</td>\n",
       "    </tr>\n",
       "    <tr>\n",
       "      <th>23</th>\n",
       "      <td>28.0</td>\n",
       "      <td>1311.409019</td>\n",
       "      <td>5.581696e+04</td>\n",
       "      <td>42.562586</td>\n",
       "      <td>5808.983392</td>\n",
       "      <td>354.398390</td>\n",
       "      <td>NaN</td>\n",
       "      <td>0.448037</td>\n",
       "    </tr>\n",
       "    <tr>\n",
       "      <th>24</th>\n",
       "      <td>12.0</td>\n",
       "      <td>21501.176496</td>\n",
       "      <td>6.699565e+03</td>\n",
       "      <td>0.311591</td>\n",
       "      <td>1300.405827</td>\n",
       "      <td>202.873390</td>\n",
       "      <td>NaN</td>\n",
       "      <td>0.332624</td>\n",
       "    </tr>\n",
       "    <tr>\n",
       "      <th>25</th>\n",
       "      <td>2454.0</td>\n",
       "      <td>59315.187841</td>\n",
       "      <td>5.193955e+06</td>\n",
       "      <td>87.565342</td>\n",
       "      <td>39001.939774</td>\n",
       "      <td>55.488462</td>\n",
       "      <td>87.565342</td>\n",
       "      <td>0.420469</td>\n",
       "    </tr>\n",
       "  </tbody>\n",
       "</table>\n",
       "</div>"
      ],
      "text/plain": [
       "    number_of_buildings    total_area    built_area  building_density  \\\n",
       "0                  44.0   1571.467687  3.048285e+04         19.397692   \n",
       "1                  24.0   1164.409144  3.716276e+04         31.915550   \n",
       "2                  18.0    988.294800  5.077519e+04         51.376564   \n",
       "3                  11.0    666.222198  2.461446e+04         36.946329   \n",
       "4                 235.0   3401.002568  3.525577e+05        103.662875   \n",
       "5                  35.0   1368.972766  7.394296e+04         54.013464   \n",
       "6                  65.0   2180.284051  1.746795e+05         80.117758   \n",
       "7                  67.0   2263.071649  2.268033e+05        100.219220   \n",
       "8                  33.0   1415.521647  4.353365e+04         30.754493   \n",
       "9                 738.0   7976.905361  1.346984e+06        168.860509   \n",
       "10                  5.0    542.549880  1.493522e+04         27.527834   \n",
       "11                 21.0   1103.806950  2.865639e+04         25.961416   \n",
       "12                 14.0    683.008223  1.971899e+04         28.870793   \n",
       "13                 10.0    656.508323  1.269352e+04         19.334892   \n",
       "14                 21.0   1087.258775  3.663762e+04         33.697238   \n",
       "15                103.0   2785.361081  2.373872e+05         85.226730   \n",
       "16                 71.0   2220.290728  1.068801e+05         48.137904   \n",
       "17                 14.0    812.231013  3.310518e+04         40.758336   \n",
       "18                 10.0    619.636490  2.437036e+04         39.330089   \n",
       "19                  6.0    389.897077  1.268659e+04         32.538298   \n",
       "20                 11.0    630.478609  1.940528e+04         30.778650   \n",
       "21                 13.0    740.302479  2.539155e+04         34.298887   \n",
       "22                 26.0   1235.120827  3.938100e+04         31.884331   \n",
       "23                 28.0   1311.409019  5.581696e+04         42.562586   \n",
       "24                 12.0  21501.176496  6.699565e+03          0.311591   \n",
       "25               2454.0  59315.187841  5.193955e+06         87.565342   \n",
       "\n",
       "        max_area     min_area  mean_area  Gini_coefficient  \n",
       "0    3102.324753   153.730146        NaN          0.378189  \n",
       "1    3165.013891   183.762128        NaN          0.259047  \n",
       "2    7560.498991   577.538118        NaN          0.401669  \n",
       "3    7555.458659   700.606240        NaN          0.371939  \n",
       "4    4513.110365   168.011089        NaN          0.355455  \n",
       "5    5574.191850   304.520098        NaN          0.342794  \n",
       "6    7275.090155    94.399830        NaN          0.308497  \n",
       "7   10834.965106   364.024026        NaN          0.271387  \n",
       "8    3496.870793   150.072405        NaN          0.413160  \n",
       "9   34636.313970    55.488462        NaN          0.437551  \n",
       "10   4526.673759  1268.396214        NaN          0.197676  \n",
       "11   3599.987599   210.013861        NaN          0.385307  \n",
       "12   4417.571559   219.534489        NaN          0.439968  \n",
       "13   3247.234318   233.535413        NaN          0.430048  \n",
       "14   4525.798702   322.021253        NaN          0.366342  \n",
       "15   7862.393917   203.853454        NaN          0.311052  \n",
       "16  39001.939774    70.984685        NaN          0.663205  \n",
       "17   5679.124821   497.032804        NaN          0.375540  \n",
       "18   5360.603800   530.284999        NaN          0.336165  \n",
       "19   4725.311870   581.038348        NaN          0.330137  \n",
       "20   4650.056903   367.524257        NaN          0.427604  \n",
       "21   4788.001008   529.234930        NaN          0.349084  \n",
       "22   4624.505217   212.324013        NaN          0.354974  \n",
       "23   5808.983392   354.398390        NaN          0.448037  \n",
       "24   1300.405827   202.873390        NaN          0.332624  \n",
       "25  39001.939774    55.488462  87.565342          0.420469  "
      ]
     },
     "execution_count": 17,
     "metadata": {},
     "output_type": "execute_result"
    }
   ],
   "source": [
    "Results.append({\n",
    "    'number_of_buildings': len(rsd_ctr), 'total_area': sum(Results.total_area), \n",
    "    'built_area': sum(dfArea.area), 'max_area': max(dfArea.area), 'min_area': min(dfArea.area),\n",
    "    'mean_area': sum(dfArea.area)/sum(Results.total_area), 'Gini_coefficient': gini(np.asarray(dfArea.area)),\n",
    "    'building_density': sum(dfArea.area)/sum(Results.total_area)\n",
    "}, ignore_index=True)"
   ]
  },
  {
   "cell_type": "code",
   "execution_count": 18,
   "metadata": {},
   "outputs": [
    {
     "data": {
      "text/plain": [
       "1635"
      ]
     },
     "execution_count": 18,
     "metadata": {},
     "output_type": "execute_result"
    }
   ],
   "source": [
    "sum(Results.number_of_buildings)"
   ]
  },
  {
   "cell_type": "markdown",
   "metadata": {},
   "source": [
    "### Histogram for the allocation of areas in a cluster"
   ]
  },
  {
   "cell_type": "code",
   "execution_count": 19,
   "metadata": {},
   "outputs": [
    {
     "data": {
      "text/plain": [
       "Text(0.5, 1.0, 'asdf')"
      ]
     },
     "execution_count": 19,
     "metadata": {},
     "output_type": "execute_result"
    },
    {
     "data": {
      "image/png": "[encoded data removed]",
      "text/plain": [
       "<Figure size 432x288 with 1 Axes>"
      ]
     },
     "metadata": {},
     "output_type": "display_data"
    }
   ],
   "source": [
    "\n",
    "i = 5 # change i to desired cluster number to view \n",
    "plt.figure(facecolor = '.6')\n",
    "hist_fig = dfArea[dfArea.cluster == i].area.hist(bins = 30).get_figure()\n",
    "plt.title('asdf')\n",
    "# dfArea.area.dropna().plot(kind='kde',xlim=(0,5*10e3), style='r--')"
   ]
  },
  {
   "cell_type": "code",
   "execution_count": null,
   "metadata": {},
   "outputs": [],
   "source": []
  }
 ],
 "metadata": {
  "kernelspec": {
   "display_name": "Python 3",
   "language": "python",
   "name": "python3"
  },
  "language_info": {
   "codemirror_mode": {
    "name": "ipython",
    "version": 3
   },
   "file_extension": ".py",
   "mimetype": "text/x-python",
   "name": "python",
   "nbconvert_exporter": "python",
   "pygments_lexer": "ipython3",
   "version": "3.6.8"
  },
  "latex_envs": {
   "LaTeX_envs_menu_present": true,
   "autoclose": true,
   "autocomplete": true,
   "bibliofile": "biblio.bib",
   "cite_by": "apalike",
   "current_citInitial": 1,
   "eqLabelWithNumbers": true,
   "eqNumInitial": 1,
   "hotkeys": {
    "equation": "Ctrl-E",
    "itemize": "Ctrl-I"
   },
   "labels_anchors": false,
   "latex_user_defs": false,
   "report_style_numbering": false,
   "user_envs_cfg": false
  },
  "toc": {
   "base_numbering": 1,
   "nav_menu": {},
   "number_sections": true,
   "sideBar": true,
   "skip_h1_title": false,
   "title_cell": "Table of Contents",
   "title_sidebar": "Contents",
   "toc_cell": false,
   "toc_position": {},
   "toc_section_display": true,
   "toc_window_display": false
  },
  "varInspector": {
   "cols": {
    "lenName": 16,
    "lenType": 16,
    "lenVar": 40
   },
   "kernels_config": {
    "python": {
     "delete_cmd_postfix": "",
     "delete_cmd_prefix": "del ",
     "library": "var_list.py",
     "varRefreshCmd": "print(var_dic_list())"
    },
    "r": {
     "delete_cmd_postfix": ") ",
     "delete_cmd_prefix": "rm(",
     "library": "var_list.r",
     "varRefreshCmd": "cat(var_dic_list()) "
    }
   },
   "types_to_exclude": [
    "module",
    "function",
    "builtin_function_or_method",
    "instance",
    "_Feature"
   ],
   "window_display": false
  }
 },
 "nbformat": 4,
 "nbformat_minor": 2
}
